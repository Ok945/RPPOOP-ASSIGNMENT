{
 "cells": [
  {
   "cell_type": "code",
   "execution_count": 16,
   "id": "1a1f6633",
   "metadata": {},
   "outputs": [],
   "source": [
    "from tkinter import *\n",
    "\n",
    "# Set up the tkinter window\n",
    "root = Tk()\n",
    "root.title(\"Drawing Shapes with Tkinter\")\n",
    "\n",
    "# Set up the canvas\n",
    "canvas = Canvas(root, width=500, height=500, bg='black')\n",
    "canvas.pack()\n",
    "\n",
    "# Define the function to draw a rectangle\n",
    "def draw_rect(event):\n",
    "    x1, y1 = (event.x - 60), (event.y - 40)\n",
    "    x2, y2 = (event.x + 60), (event.y + 40)\n",
    "    canvas.create_rectangle(x1, y1, x2, y2, fill='yellow')\n",
    "\n",
    "# Define the function to draw a circle\n",
    "def draw_circle(event):\n",
    "    x1, y1 = (event.x - 50), (event.y - 50)\n",
    "    x2, y2 = (event.x + 50), (event.y + 50)\n",
    "    canvas.create_oval(x1, y1, x2, y2, fill='blue')\n",
    "def draw_square(event):\n",
    "    x1, y1 = (event.x - 40), (event.y - 40)\n",
    "    x2, y2 = (event.x + 40), (event.y + 40)\n",
    "    canvas.create_rectangle(x1, y1, x2, y2, fill='red')\n",
    "# Bind the left mouse click to the draw functions\n",
    "canvas.bind('<Button-1>', draw_square)\n",
    "canvas.bind('<Button-2>', draw_rect)\n",
    "canvas.bind('<Button-3>', draw_circle)\n",
    "\n",
    "# Start the tkinter event loop\n",
    "root.mainloop()"
   ]
  },
  {
   "cell_type": "code",
   "execution_count": null,
   "id": "f0fcdade",
   "metadata": {},
   "outputs": [],
   "source": []
  }
 ],
 "metadata": {
  "kernelspec": {
   "display_name": "Python 3 (ipykernel)",
   "language": "python",
   "name": "python3"
  },
  "language_info": {
   "codemirror_mode": {
    "name": "ipython",
    "version": 3
   },
   "file_extension": ".py",
   "mimetype": "text/x-python",
   "name": "python",
   "nbconvert_exporter": "python",
   "pygments_lexer": "ipython3",
   "version": "3.9.13"
  }
 },
 "nbformat": 4,
 "nbformat_minor": 5
}
