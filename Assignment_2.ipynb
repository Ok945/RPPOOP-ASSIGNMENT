{
 "cells": [
  {
   "cell_type": "code",
   "execution_count": 1,
   "id": "4e8f0cc0",
   "metadata": {},
   "outputs": [
    {
     "name": "stdout",
     "output_type": "stream",
     "text": [
      "Eats plants\n",
      "Eats flesh\n"
     ]
    }
   ],
   "source": [
    "class herbivores():\n",
    "    def eats(self):\n",
    "        print(\"Eats plants\")\n",
    "class carnivores():\n",
    "    def eats(self):\n",
    "        print(\"Eats flesh\")\n",
    "def func(obj):\n",
    "    obj.eats()\n",
    "h1=herbivores()\n",
    "c1=carnivores()\n",
    "func(h1)\n",
    "func(c1)"
   ]
  },
  {
   "cell_type": "code",
   "execution_count": null,
   "id": "d0607065",
   "metadata": {},
   "outputs": [],
   "source": []
  },
  {
   "cell_type": "code",
   "execution_count": 14,
   "id": "a5591114",
   "metadata": {},
   "outputs": [
    {
     "name": "stdout",
     "output_type": "stream",
     "text": [
      "Meows\n",
      "Roars\n"
     ]
    }
   ],
   "source": [
    "class animal:\n",
    "    def speaks(self):\n",
    "        print(\"...\")\n",
    "class cat(animal):\n",
    "    def eats(self):\n",
    "        print(\"Eats plants\")\n",
    "    def speaks(self):\n",
    "        print(\"Meows\")\n",
    "class lion(animal):\n",
    "    def eats(self):\n",
    "        print(\"Eats flesh\")\n",
    "    def speaks(self):\n",
    "        print(\"Roars\")\n",
    "animals=[cat(),lion()]\n",
    "def func(obj):\n",
    "    obj.eats()\n",
    "# h1=herbivores()\n",
    "# c1=carnivores()\n",
    "for animal in animals:\n",
    "    animal.speaks()"
   ]
  },
  {
   "cell_type": "code",
   "execution_count": null,
   "id": "abacf233",
   "metadata": {},
   "outputs": [],
   "source": []
  }
 ],
 "metadata": {
  "kernelspec": {
   "display_name": "Python 3 (ipykernel)",
   "language": "python",
   "name": "python3"
  },
  "language_info": {
   "codemirror_mode": {
    "name": "ipython",
    "version": 3
   },
   "file_extension": ".py",
   "mimetype": "text/x-python",
   "name": "python",
   "nbconvert_exporter": "python",
   "pygments_lexer": "ipython3",
   "version": "3.9.13"
  }
 },
 "nbformat": 4,
 "nbformat_minor": 5
}
