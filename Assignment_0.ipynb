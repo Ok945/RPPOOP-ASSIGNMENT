{
 "cells": [
  {
   "cell_type": "code",
   "execution_count": null,
   "id": "1b1a4259",
   "metadata": {},
   "outputs": [
    {
     "name": "stdout",
     "output_type": "stream",
     "text": [
      "10\n",
      "6\n",
      "length: 2\n",
      "breadth: 3\n",
      "Enter 1 to print area\n",
      "Enter 2 to print perimeter\n",
      "Enter 3 to set dimensions\n",
      "Enter 4 to print dimension\n",
      "Enter 5 to exit\n",
      "1\n",
      "6\n",
      "Enter 1 to print area\n",
      "Enter 2 to print perimeter\n",
      "Enter 3 to set dimensions\n",
      "Enter 4 to print dimension\n",
      "Enter 5 to exit\n",
      "3\n",
      "Enter length:\n",
      "4\n",
      "Enter breadth:\n",
      "5\n",
      "Enter 1 to print area\n",
      "Enter 2 to print perimeter\n",
      "Enter 3 to set dimensions\n",
      "Enter 4 to print dimension\n",
      "Enter 5 to exit\n",
      "2\n",
      "18\n",
      "Enter 1 to print area\n",
      "Enter 2 to print perimeter\n",
      "Enter 3 to set dimensions\n",
      "Enter 4 to print dimension\n",
      "Enter 5 to exit\n"
     ]
    }
   ],
   "source": [
    "class rectangle:\n",
    "    def __init__(self,len,breadth):\n",
    "        self.l = len\n",
    "        self.b = breadth\n",
    "    def area(self):\n",
    "        return self.l * self.b\n",
    "    def perimeter(self):\n",
    "        return 2*(self.l+self.b)\n",
    "    def setDimensions(self):\n",
    "        self.l = int(input(\"Enter length:\\n\"))\n",
    "        self.b = int(input(\"Enter breadth:\\n\"))\n",
    "    def getDimensions(self):\n",
    "        print(\"length:\",self.l)\n",
    "        print(\"breadth:\",self.b)\n",
    "r1=rectangle(2,3)\n",
    "print(r1.perimeter())\n",
    "print(r1.area())\n",
    "# r1.setDimensions(10,5)\n",
    "r1.getDimensions()\n",
    "\n",
    "print(\"Enter 1 to print area\\nEnter 2 to print perimeter\\nEnter 3 to set dimensions\\nEnter 4 to print dimension\\nEnter 5 to exit\")\n",
    "choice=int(input())\n",
    "while(choice!=5):\n",
    "    if(choice==1):\n",
    "        print(r1.area())\n",
    "    if(choice==2):\n",
    "        print(r1.perimeter())\n",
    "    if(choice==3):\n",
    "        r1.setDimensions()\n",
    "    if(choice==4):\n",
    "        r1.getDimensions()\n",
    "    print(\"Enter 1 to print area\\nEnter 2 to print perimeter\\nEnter 3 to set dimensions\\nEnter 4 to print dimension\\nEnter 5 to exit\")\n",
    "    choice=int(input())"
   ]
  },
  {
   "cell_type": "code",
   "execution_count": null,
   "id": "c26d1522",
   "metadata": {},
   "outputs": [],
   "source": []
  },
  {
   "cell_type": "code",
   "execution_count": null,
   "id": "e94aa6f2",
   "metadata": {},
   "outputs": [],
   "source": []
  },
  {
   "cell_type": "code",
   "execution_count": null,
   "id": "58ab68e6",
   "metadata": {},
   "outputs": [],
   "source": []
  },
  {
   "cell_type": "code",
   "execution_count": null,
   "id": "3288ec68",
   "metadata": {},
   "outputs": [],
   "source": []
  },
  {
   "cell_type": "code",
   "execution_count": null,
   "id": "3219d2e3",
   "metadata": {},
   "outputs": [],
   "source": []
  },
  {
   "cell_type": "code",
   "execution_count": null,
   "id": "bc80dad7",
   "metadata": {},
   "outputs": [],
   "source": []
  }
 ],
 "metadata": {
  "kernelspec": {
   "display_name": "Python 3 (ipykernel)",
   "language": "python",
   "name": "python3"
  },
  "language_info": {
   "codemirror_mode": {
    "name": "ipython",
    "version": 3
   },
   "file_extension": ".py",
   "mimetype": "text/x-python",
   "name": "python",
   "nbconvert_exporter": "python",
   "pygments_lexer": "ipython3",
   "version": "3.9.13"
  }
 },
 "nbformat": 4,
 "nbformat_minor": 5
}
