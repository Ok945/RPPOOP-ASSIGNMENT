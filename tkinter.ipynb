{
 "cells": [
  {
   "cell_type": "code",
   "execution_count": 1,
   "id": "9a8d45a9",
   "metadata": {},
   "outputs": [],
   "source": [
    "import tkinter as tk\n",
    "\n",
    "# Create the main root\n",
    "root = tk.Tk()\n",
    "root.title(\"2 Labels with different background colors:\")\n",
    "root.geometry(\"600x500\")\n",
    "\n",
    "# Create the first label with a blue background\n",
    "label1 = tk.Label(root, text=\"Label 1\", bg=\"yellow\", fg=\"white\")\n",
    "label1.pack(fill = tk.BOTH, expand = True)\n",
    "\n",
    "\n",
    "# Create the second label with a green background\n",
    "label2 = tk.Label(root, text=\"Label 2\", bg=\"red\", fg=\"white\")\n",
    "label2.pack(fill = tk.BOTH, expand = True)\n",
    "\n",
    "\n",
    "# Start the Tkinter event loop\n",
    "root.mainloop()\n"
   ]
  },
  {
   "cell_type": "code",
   "execution_count": null,
   "id": "0418f11c",
   "metadata": {},
   "outputs": [],
   "source": []
  }
 ],
 "metadata": {
  "kernelspec": {
   "display_name": "Python 3 (ipykernel)",
   "language": "python",
   "name": "python3"
  },
  "language_info": {
   "codemirror_mode": {
    "name": "ipython",
    "version": 3
   },
   "file_extension": ".py",
   "mimetype": "text/x-python",
   "name": "python",
   "nbconvert_exporter": "python",
   "pygments_lexer": "ipython3",
   "version": "3.9.13"
  }
 },
 "nbformat": 4,
 "nbformat_minor": 5
}
